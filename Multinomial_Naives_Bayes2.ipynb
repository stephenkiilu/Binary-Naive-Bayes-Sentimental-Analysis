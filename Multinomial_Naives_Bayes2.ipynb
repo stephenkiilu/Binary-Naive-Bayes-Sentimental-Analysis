{
  "cells": [
    {
      "cell_type": "markdown",
      "metadata": {
        "id": "fFSfoZfCe9Jt"
      },
      "source": [
        "Multinomial Naives Bayes"
      ]
    },
    {
      "cell_type": "code",
      "execution_count": null,
      "metadata": {
        "colab": {
          "base_uri": "https://localhost:8080/"
        },
        "id": "gBVuRP4mevFM",
        "outputId": "25219200-fe8f-44fe-a695-53e43c75f9ec"
      },
      "outputs": [
        {
          "output_type": "stream",
          "name": "stdout",
          "text": [
            "[nltk_data] Downloading package stopwords to /root/nltk_data...\n",
            "[nltk_data]   Unzipping corpora/stopwords.zip.\n",
            "[nltk_data] Downloading package wordnet to /root/nltk_data...\n",
            "[nltk_data]   Unzipping corpora/wordnet.zip.\n"
          ]
        }
      ],
      "source": [
        "# library imported \n",
        "import numpy as np\n",
        "import pandas as pd\n",
        "import string\n",
        "import nltk\n",
        "nltk.download('stopwords')\n",
        "nltk.download('wordnet')\n",
        "from nltk.corpus import stopwords\n",
        "from nltk.stem.wordnet import WordNetLemmatizer\n",
        "from nltk.stem.snowball import SnowballStemmer\n",
        "from nltk.stem.porter import PorterStemmer \n",
        "import copy\n",
        "from sklearn.metrics import confusion_matrix, ConfusionMatrixDisplay"
      ]
    },
    {
      "cell_type": "code",
      "execution_count": null,
      "metadata": {
        "id": "eiD1XYfhIQBD"
      },
      "outputs": [],
      "source": [
        "\n",
        "class MultinomialBN():\n",
        "  \"\"\"\n",
        "    this class take k(alpha), and categories \n",
        "    input: k, categories\n",
        "    output : predict new document\n",
        "\n",
        "  \"\"\"\n",
        "  def __init__(self,k, categories):\n",
        "    \"\"\"\n",
        "    this class take k(alpha), and real categories of data \n",
        "    input: k, categories\n",
        "    output : predict new document\n",
        "\n",
        "    \"\"\"\n",
        "    self.k = k\n",
        "    self.count_categories = {}\n",
        "    self.prior_categories = {}\n",
        "    self.word_probs = []\n",
        "    self.vocabulary_ = []\n",
        "    self.stop = set(stopwords.words('english'))\n",
        "    self.stemmer = SnowballStemmer(language = 'english')\n",
        "    self.lem = WordNetLemmatizer()\n",
        "    self.categories = categories\n",
        "  \n",
        "  def tokenize(self, document):\n",
        "    \"\"\"\n",
        "      process: \n",
        "          * remove punctuation  \n",
        "          * remove stopwords(word that is not very important)\n",
        "          * stemmetize each word in order to get the stem of the word( eg: driven => drive)\n",
        "          * lemmatize each word in order to get the lem(using vocabulary similarity) eg : drove => drive\n",
        "      input: document (sentence that we want to predict eg: \"it is not difficult to understand\")\n",
        "      return array of word ([difficult, to, understand])\n",
        "    \"\"\"\n",
        "    data = document.lower()\n",
        "    # data = [char for char in document if char not in string.punctuation]\n",
        "    for char in string.punctuation:\n",
        "      data = data.replace(char, '')\n",
        "    # data = ''.join(data)\n",
        "    data = [self.lem.lemmatize(self.stemmer.stem(word)) for word in data.split() if word not in self.stop]\n",
        "    # data = [word for word in data.split() if word.lower() not in self.stop]\n",
        "    # data = [self.stemmer.stem(x,) for x in data]\n",
        "    # data = [self.lem.lemmatize(x,) for x in data]\n",
        "    return data\n",
        "\n",
        "  def count_words(self, X, y):\n",
        "    \"\"\"\n",
        "      X: array of tokenize elements\n",
        "      y: categories of this elements\n",
        "      return counts : {word: (number of appearition in categories 0, number of appearition in categories 1, number of appearition in categories 2)}\n",
        "    \"\"\"\n",
        "    size = len(X)\n",
        "    category_size = len(self.categories)\n",
        "\n",
        "    counts = {}\n",
        "    for i in range(size):\n",
        "      for word in X[i]:\n",
        "        if word not in counts:\n",
        "          counts[word] = [0] * category_size\n",
        "        counts[word][y[i]] += 1\n",
        "    # print(counts)\n",
        "    return counts\n",
        "\n",
        "  def prior_prob(self):\n",
        "    \"\"\"\n",
        "      compute the prior probability of each category\n",
        "      count the number of word of each category\n",
        "    \"\"\"\n",
        "    prior_probabilities = {}\n",
        "    count_categories = {}\n",
        "    data_size = len(self.y)\n",
        "    category_size = len(self.categories)\n",
        "\n",
        "    init = {}\n",
        "    for cat in self.categories:\n",
        "      init[cat] = 0\n",
        "\n",
        "    # init data\n",
        "    count_categories = init.copy()\n",
        "    prior_probabilities = init.copy()\n",
        "\n",
        "    count_categories['total'] = 0\n",
        "\n",
        "    for word in self.counts: \n",
        "      for cat in self.categories:\n",
        "        count_categories[cat] += self.counts[word][self.categories.index(cat)]\n",
        "    \n",
        "    for cat in self.categories:\n",
        "      count_categories['total'] += count_categories[cat]\n",
        "\n",
        "    # print(prior_probabilities)\n",
        "    for cat in self.categories:\n",
        "      prior_probabilities[cat] = np.log(self.y.value_counts()[self.categories.index(cat)]/data_size)\n",
        "\n",
        "    self.prior_probabilities = prior_probabilities\n",
        "    self.count_categories = count_categories\n",
        "\n",
        "\n",
        "  def word_probabilities(self,):\n",
        "    \"\"\"\n",
        "    compute the probability of each word \n",
        "    \"\"\"\n",
        "    vocabulary_size = len(self.counts)\n",
        "    category_size = len(self.categories)\n",
        "    # init = {}\n",
        "    # for cat in self.categories:\n",
        "    #   init[cat] = 0\n",
        "\n",
        "    word_probs = {}\n",
        "    for word in self.counts:\n",
        "      word_probs[word] = [0] * category_size\n",
        "      for cat in self.categories:\n",
        "        word_probs[word][self.categories.index(cat)] = (self.counts[word][self.categories.index(cat)]+self.k)/(self.count_categories[cat] + self.k * vocabulary_size)\n",
        "\n",
        "    return word_probs\n",
        "\n",
        "  def fit(self, X, y):\n",
        "    \"\"\"\n",
        "    Process:\n",
        "      * tokenize each input\n",
        "      * count the number of word of this dataset\n",
        "      * compute the prior of each category\n",
        "      * compute the probability of each word\n",
        "\n",
        "    this function is used to get the probability of each word \n",
        "    \"\"\"\n",
        "    self.X = X.apply(self.tokenize)   \n",
        "    self.y = y\n",
        "\n",
        "    self.counts = self.count_words(self.X, self.y)\n",
        "    self.prior_prob()\n",
        "    self.word_probs = self.word_probabilities()\n",
        "\n",
        "\n",
        "  def predict(self, X):\n",
        "    X = X.apply(self.tokenize)\n",
        "    results = []\n",
        "    log_proba = {}\n",
        "    category_size = len(self.categories)\n",
        "\n",
        "    init = {}\n",
        "    for cat in self.categories:\n",
        "      init[cat] = 0\n",
        "\n",
        "    for document in X:\n",
        "      prediction = None\n",
        "      log_proba = init.copy()\n",
        "      for word in document:\n",
        "        if word in self.counts:\n",
        "          for cat in self.categories:\n",
        "            log_proba[cat] += np.log(self.word_probs[word][self.categories.index(cat)])\n",
        "\n",
        "      # print(log_proba)\n",
        "      for cat in self.categories:\n",
        "        log_proba[cat] = self.prior_probabilities[cat] +  log_proba[cat]\n",
        "      \n",
        "      results.append(self.categories.index(max(log_proba, key = log_proba.get)))\n",
        "    return results\n",
        "\n",
        "  def accuracy(self, y, yPred):\n",
        "    return (np.sum(y == yPred)/len(y)) * 100\n"
      ]
    },
    {
      "cell_type": "code",
      "execution_count": null,
      "metadata": {
        "colab": {
          "base_uri": "https://localhost:8080/",
          "height": 201
        },
        "id": "zqgHaTyIJkLQ",
        "outputId": "739255e5-bef3-45df-977e-379cfd9537ef"
      },
      "outputs": [
        {
          "output_type": "execute_result",
          "data": {
            "text/plain": [
              "                                              review sentiment\n",
              "0  One of the other reviewers has mentioned that ...  positive\n",
              "1  A wonderful little production. <br /><br />The...  positive\n",
              "2  I thought this was a wonderful way to spend ti...  positive\n",
              "3  Basically there's a family where a little boy ...  negative\n",
              "4  Petter Mattei's \"Love in the Time of Money\" is...  positive"
            ],
            "text/html": [
              "\n",
              "  <div id=\"df-d810046d-9137-4393-81c5-8b1546bd1553\">\n",
              "    <div class=\"colab-df-container\">\n",
              "      <div>\n",
              "<style scoped>\n",
              "    .dataframe tbody tr th:only-of-type {\n",
              "        vertical-align: middle;\n",
              "    }\n",
              "\n",
              "    .dataframe tbody tr th {\n",
              "        vertical-align: top;\n",
              "    }\n",
              "\n",
              "    .dataframe thead th {\n",
              "        text-align: right;\n",
              "    }\n",
              "</style>\n",
              "<table border=\"1\" class=\"dataframe\">\n",
              "  <thead>\n",
              "    <tr style=\"text-align: right;\">\n",
              "      <th></th>\n",
              "      <th>review</th>\n",
              "      <th>sentiment</th>\n",
              "    </tr>\n",
              "  </thead>\n",
              "  <tbody>\n",
              "    <tr>\n",
              "      <th>0</th>\n",
              "      <td>One of the other reviewers has mentioned that ...</td>\n",
              "      <td>positive</td>\n",
              "    </tr>\n",
              "    <tr>\n",
              "      <th>1</th>\n",
              "      <td>A wonderful little production. &lt;br /&gt;&lt;br /&gt;The...</td>\n",
              "      <td>positive</td>\n",
              "    </tr>\n",
              "    <tr>\n",
              "      <th>2</th>\n",
              "      <td>I thought this was a wonderful way to spend ti...</td>\n",
              "      <td>positive</td>\n",
              "    </tr>\n",
              "    <tr>\n",
              "      <th>3</th>\n",
              "      <td>Basically there's a family where a little boy ...</td>\n",
              "      <td>negative</td>\n",
              "    </tr>\n",
              "    <tr>\n",
              "      <th>4</th>\n",
              "      <td>Petter Mattei's \"Love in the Time of Money\" is...</td>\n",
              "      <td>positive</td>\n",
              "    </tr>\n",
              "  </tbody>\n",
              "</table>\n",
              "</div>\n",
              "      <button class=\"colab-df-convert\" onclick=\"convertToInteractive('df-d810046d-9137-4393-81c5-8b1546bd1553')\"\n",
              "              title=\"Convert this dataframe to an interactive table.\"\n",
              "              style=\"display:none;\">\n",
              "        \n",
              "  <svg xmlns=\"http://www.w3.org/2000/svg\" height=\"24px\"viewBox=\"0 0 24 24\"\n",
              "       width=\"24px\">\n",
              "    <path d=\"M0 0h24v24H0V0z\" fill=\"none\"/>\n",
              "    <path d=\"M18.56 5.44l.94 2.06.94-2.06 2.06-.94-2.06-.94-.94-2.06-.94 2.06-2.06.94zm-11 1L8.5 8.5l.94-2.06 2.06-.94-2.06-.94L8.5 2.5l-.94 2.06-2.06.94zm10 10l.94 2.06.94-2.06 2.06-.94-2.06-.94-.94-2.06-.94 2.06-2.06.94z\"/><path d=\"M17.41 7.96l-1.37-1.37c-.4-.4-.92-.59-1.43-.59-.52 0-1.04.2-1.43.59L10.3 9.45l-7.72 7.72c-.78.78-.78 2.05 0 2.83L4 21.41c.39.39.9.59 1.41.59.51 0 1.02-.2 1.41-.59l7.78-7.78 2.81-2.81c.8-.78.8-2.07 0-2.86zM5.41 20L4 18.59l7.72-7.72 1.47 1.35L5.41 20z\"/>\n",
              "  </svg>\n",
              "      </button>\n",
              "      \n",
              "  <style>\n",
              "    .colab-df-container {\n",
              "      display:flex;\n",
              "      flex-wrap:wrap;\n",
              "      gap: 12px;\n",
              "    }\n",
              "\n",
              "    .colab-df-convert {\n",
              "      background-color: #E8F0FE;\n",
              "      border: none;\n",
              "      border-radius: 50%;\n",
              "      cursor: pointer;\n",
              "      display: none;\n",
              "      fill: #1967D2;\n",
              "      height: 32px;\n",
              "      padding: 0 0 0 0;\n",
              "      width: 32px;\n",
              "    }\n",
              "\n",
              "    .colab-df-convert:hover {\n",
              "      background-color: #E2EBFA;\n",
              "      box-shadow: 0px 1px 2px rgba(60, 64, 67, 0.3), 0px 1px 3px 1px rgba(60, 64, 67, 0.15);\n",
              "      fill: #174EA6;\n",
              "    }\n",
              "\n",
              "    [theme=dark] .colab-df-convert {\n",
              "      background-color: #3B4455;\n",
              "      fill: #D2E3FC;\n",
              "    }\n",
              "\n",
              "    [theme=dark] .colab-df-convert:hover {\n",
              "      background-color: #434B5C;\n",
              "      box-shadow: 0px 1px 3px 1px rgba(0, 0, 0, 0.15);\n",
              "      filter: drop-shadow(0px 1px 2px rgba(0, 0, 0, 0.3));\n",
              "      fill: #FFFFFF;\n",
              "    }\n",
              "  </style>\n",
              "\n",
              "      <script>\n",
              "        const buttonEl =\n",
              "          document.querySelector('#df-d810046d-9137-4393-81c5-8b1546bd1553 button.colab-df-convert');\n",
              "        buttonEl.style.display =\n",
              "          google.colab.kernel.accessAllowed ? 'block' : 'none';\n",
              "\n",
              "        async function convertToInteractive(key) {\n",
              "          const element = document.querySelector('#df-d810046d-9137-4393-81c5-8b1546bd1553');\n",
              "          const dataTable =\n",
              "            await google.colab.kernel.invokeFunction('convertToInteractive',\n",
              "                                                     [key], {});\n",
              "          if (!dataTable) return;\n",
              "\n",
              "          const docLinkHtml = 'Like what you see? Visit the ' +\n",
              "            '<a target=\"_blank\" href=https://colab.research.google.com/notebooks/data_table.ipynb>data table notebook</a>'\n",
              "            + ' to learn more about interactive tables.';\n",
              "          element.innerHTML = '';\n",
              "          dataTable['output_type'] = 'display_data';\n",
              "          await google.colab.output.renderOutput(dataTable, element);\n",
              "          const docLink = document.createElement('div');\n",
              "          docLink.innerHTML = docLinkHtml;\n",
              "          element.appendChild(docLink);\n",
              "        }\n",
              "      </script>\n",
              "    </div>\n",
              "  </div>\n",
              "  "
            ]
          },
          "metadata": {},
          "execution_count": 27
        }
      ],
      "source": [
        "#import dataset\n",
        "df = pd.read_csv('IMDB Dataset.csv')\n",
        "df.head()"
      ]
    },
    {
      "cell_type": "code",
      "execution_count": null,
      "metadata": {
        "colab": {
          "base_uri": "https://localhost:8080/"
        },
        "id": "g6gT3lS4JIQC",
        "outputId": "5b76a8cf-6642-4263-cca9-aa80a6d79b32"
      },
      "outputs": [
        {
          "output_type": "stream",
          "name": "stdout",
          "text": [
            "                                              review  sentiment\n",
            "0  One of the other reviewers has mentioned that ...          0\n",
            "1  A wonderful little production. <br /><br />The...          0\n",
            "2  I thought this was a wonderful way to spend ti...          0\n",
            "3  Basically there's a family where a little boy ...          1\n",
            "4  Petter Mattei's \"Love in the Time of Money\" is...          0\n"
          ]
        }
      ],
      "source": [
        "# label encoding\n",
        "categories = df['sentiment'].unique().tolist()\n",
        "df['sentiment'] =  df['sentiment'].apply(lambda x : categories.index(x))\n",
        "print(df.head())"
      ]
    },
    {
      "cell_type": "code",
      "execution_count": null,
      "metadata": {
        "id": "YBBNHBJdIaxq"
      },
      "outputs": [],
      "source": [
        "transformer = MultinomialBN(k=1, categories=categories) #init model"
      ]
    },
    {
      "cell_type": "code",
      "execution_count": null,
      "metadata": {
        "colab": {
          "base_uri": "https://localhost:8080/"
        },
        "id": "csvVggMjmHNr",
        "outputId": "4911139a-5471-4f8c-caeb-063fa9ddacff"
      },
      "outputs": [
        {
          "output_type": "execute_result",
          "data": {
            "text/plain": [
              "['hi', 'love', 'ate', 'potato', 'sentiment']"
            ]
          },
          "metadata": {},
          "execution_count": 30
        }
      ],
      "source": [
        "transformer.tokenize('Hi, I love ate you potatoes sentiments') # just show how tokenizer work"
      ]
    },
    {
      "cell_type": "code",
      "execution_count": null,
      "metadata": {
        "colab": {
          "base_uri": "https://localhost:8080/"
        },
        "id": "8KefPYNa16rf",
        "outputId": "dfe65a3f-59c4-4414-c557-c75c3fd264e5"
      },
      "outputs": [
        {
          "output_type": "stream",
          "name": "stdout",
          "text": [
            "40000\n"
          ]
        }
      ],
      "source": [
        "# split the data into train set and test set\n",
        "ratio = 0.8\n",
        "size = len(df)\n",
        "train_size = int(ratio * size)\n",
        "print(train_size)\n",
        "\n",
        "X_train, y_train = df['review'][:train_size], df['sentiment'][:train_size]\n",
        "X_test, y_test = df['review'][train_size:], df['sentiment'][train_size:]\n"
      ]
    },
    {
      "cell_type": "code",
      "execution_count": null,
      "metadata": {
        "id": "rNCcTW0MucbI"
      },
      "outputs": [],
      "source": [
        "# training the model\n",
        "transformer.fit(X_train, y_train)"
      ]
    },
    {
      "cell_type": "code",
      "execution_count": null,
      "metadata": {
        "id": "BZ7HkiXA4x7j"
      },
      "outputs": [],
      "source": [
        "yPred = transformer.predict(X_test) # get prediction"
      ]
    },
    {
      "cell_type": "code",
      "execution_count": null,
      "metadata": {
        "colab": {
          "base_uri": "https://localhost:8080/"
        },
        "id": "Ww04-bB3-FzC",
        "outputId": "6435b442-6fb3-41d6-b634-e39effd312cd"
      },
      "outputs": [
        {
          "output_type": "execute_result",
          "data": {
            "text/plain": [
              "85.71"
            ]
          },
          "metadata": {},
          "execution_count": 34
        }
      ],
      "source": [
        "transformer.accuracy(yPred, y_test)"
      ]
    },
    {
      "cell_type": "code",
      "source": [
        "cm = confusion_matrix(y_test, yPred,)\n",
        "disp = ConfusionMatrixDisplay(confusion_matrix=cm, display_labels=categories)\n",
        "disp.plot()"
      ],
      "metadata": {
        "colab": {
          "base_uri": "https://localhost:8080/",
          "height": 295
        },
        "id": "NLNLU5n8yy0J",
        "outputId": "df7086a8-2e39-4f48-8936-bcfe637bcf22"
      },
      "execution_count": null,
      "outputs": [
        {
          "output_type": "execute_result",
          "data": {
            "text/plain": [
              "<sklearn.metrics._plot.confusion_matrix.ConfusionMatrixDisplay at 0x7fcad76516d0>"
            ]
          },
          "metadata": {},
          "execution_count": 35
        },
        {
          "output_type": "display_data",
          "data": {
            "text/plain": [
              "<Figure size 432x288 with 2 Axes>"
            ],
            "image/png": "[encoded data removed]"
          },
          "metadata": {
            "needs_background": "light"
          }
        }
      ]
    },
    {
      "cell_type": "code",
      "source": [
        "fast = pd.Series(['love', 'bad'])  \n",
        "y_fast = transformer.predict(fast)\n",
        "for pred in y_fast:\n",
        "  print(categories[pred])"
      ],
      "metadata": {
        "colab": {
          "base_uri": "https://localhost:8080/"
        },
        "id": "OX7XEM_ghzA9",
        "outputId": "b4ea93b6-0fc6-4904-e846-467dedd6e3fe"
      },
      "execution_count": null,
      "outputs": [
        {
          "output_type": "stream",
          "name": "stdout",
          "text": [
            "positive\n",
            "negative\n"
          ]
        }
      ]
    },
    {
      "cell_type": "markdown",
      "source": [
        "<h1>Spam dataset</h1>"
      ],
      "metadata": {
        "id": "pY2yjq40pN5H"
      }
    },
    {
      "cell_type": "code",
      "source": [
        "df3 = pd.read_csv('spam.csv')\n",
        "df3.head()\n"
      ],
      "metadata": {
        "colab": {
          "base_uri": "https://localhost:8080/",
          "height": 201
        },
        "id": "IfvH62mPkXJ1",
        "outputId": "3c3ecef5-c258-4d48-fda0-6a367cff4461"
      },
      "execution_count": null,
      "outputs": [
        {
          "output_type": "execute_result",
          "data": {
            "text/plain": [
              "     v1                                                 v2 Unnamed: 2  \\\n",
              "0   ham  Go until jurong point, crazy.. Available only ...        NaN   \n",
              "1   ham                      Ok lar... Joking wif u oni...        NaN   \n",
              "2  spam  Free entry in 2 a wkly comp to win FA Cup fina...        NaN   \n",
              "3   ham  U dun say so early hor... U c already then say...        NaN   \n",
              "4   ham  Nah I don't think he goes to usf, he lives aro...        NaN   \n",
              "\n",
              "  Unnamed: 3 Unnamed: 4  \n",
              "0        NaN        NaN  \n",
              "1        NaN        NaN  \n",
              "2        NaN        NaN  \n",
              "3        NaN        NaN  \n",
              "4        NaN        NaN  "
            ],
            "text/html": [
              "\n",
              "  <div id=\"df-f6f6b953-80b8-4185-bf7d-edb134a0b9f4\">\n",
              "    <div class=\"colab-df-container\">\n",
              "      <div>\n",
              "<style scoped>\n",
              "    .dataframe tbody tr th:only-of-type {\n",
              "        vertical-align: middle;\n",
              "    }\n",
              "\n",
              "    .dataframe tbody tr th {\n",
              "        vertical-align: top;\n",
              "    }\n",
              "\n",
              "    .dataframe thead th {\n",
              "        text-align: right;\n",
              "    }\n",
              "</style>\n",
              "<table border=\"1\" class=\"dataframe\">\n",
              "  <thead>\n",
              "    <tr style=\"text-align: right;\">\n",
              "      <th></th>\n",
              "      <th>v1</th>\n",
              "      <th>v2</th>\n",
              "      <th>Unnamed: 2</th>\n",
              "      <th>Unnamed: 3</th>\n",
              "      <th>Unnamed: 4</th>\n",
              "    </tr>\n",
              "  </thead>\n",
              "  <tbody>\n",
              "    <tr>\n",
              "      <th>0</th>\n",
              "      <td>ham</td>\n",
              "      <td>Go until jurong point, crazy.. Available only ...</td>\n",
              "      <td>NaN</td>\n",
              "      <td>NaN</td>\n",
              "      <td>NaN</td>\n",
              "    </tr>\n",
              "    <tr>\n",
              "      <th>1</th>\n",
              "      <td>ham</td>\n",
              "      <td>Ok lar... Joking wif u oni...</td>\n",
              "      <td>NaN</td>\n",
              "      <td>NaN</td>\n",
              "      <td>NaN</td>\n",
              "    </tr>\n",
              "    <tr>\n",
              "      <th>2</th>\n",
              "      <td>spam</td>\n",
              "      <td>Free entry in 2 a wkly comp to win FA Cup fina...</td>\n",
              "      <td>NaN</td>\n",
              "      <td>NaN</td>\n",
              "      <td>NaN</td>\n",
              "    </tr>\n",
              "    <tr>\n",
              "      <th>3</th>\n",
              "      <td>ham</td>\n",
              "      <td>U dun say so early hor... U c already then say...</td>\n",
              "      <td>NaN</td>\n",
              "      <td>NaN</td>\n",
              "      <td>NaN</td>\n",
              "    </tr>\n",
              "    <tr>\n",
              "      <th>4</th>\n",
              "      <td>ham</td>\n",
              "      <td>Nah I don't think he goes to usf, he lives aro...</td>\n",
              "      <td>NaN</td>\n",
              "      <td>NaN</td>\n",
              "      <td>NaN</td>\n",
              "    </tr>\n",
              "  </tbody>\n",
              "</table>\n",
              "</div>\n",
              "      <button class=\"colab-df-convert\" onclick=\"convertToInteractive('df-f6f6b953-80b8-4185-bf7d-edb134a0b9f4')\"\n",
              "              title=\"Convert this dataframe to an interactive table.\"\n",
              "              style=\"display:none;\">\n",
              "        \n",
              "  <svg xmlns=\"http://www.w3.org/2000/svg\" height=\"24px\"viewBox=\"0 0 24 24\"\n",
              "       width=\"24px\">\n",
              "    <path d=\"M0 0h24v24H0V0z\" fill=\"none\"/>\n",
              "    <path d=\"M18.56 5.44l.94 2.06.94-2.06 2.06-.94-2.06-.94-.94-2.06-.94 2.06-2.06.94zm-11 1L8.5 8.5l.94-2.06 2.06-.94-2.06-.94L8.5 2.5l-.94 2.06-2.06.94zm10 10l.94 2.06.94-2.06 2.06-.94-2.06-.94-.94-2.06-.94 2.06-2.06.94z\"/><path d=\"M17.41 7.96l-1.37-1.37c-.4-.4-.92-.59-1.43-.59-.52 0-1.04.2-1.43.59L10.3 9.45l-7.72 7.72c-.78.78-.78 2.05 0 2.83L4 21.41c.39.39.9.59 1.41.59.51 0 1.02-.2 1.41-.59l7.78-7.78 2.81-2.81c.8-.78.8-2.07 0-2.86zM5.41 20L4 18.59l7.72-7.72 1.47 1.35L5.41 20z\"/>\n",
              "  </svg>\n",
              "      </button>\n",
              "      \n",
              "  <style>\n",
              "    .colab-df-container {\n",
              "      display:flex;\n",
              "      flex-wrap:wrap;\n",
              "      gap: 12px;\n",
              "    }\n",
              "\n",
              "    .colab-df-convert {\n",
              "      background-color: #E8F0FE;\n",
              "      border: none;\n",
              "      border-radius: 50%;\n",
              "      cursor: pointer;\n",
              "      display: none;\n",
              "      fill: #1967D2;\n",
              "      height: 32px;\n",
              "      padding: 0 0 0 0;\n",
              "      width: 32px;\n",
              "    }\n",
              "\n",
              "    .colab-df-convert:hover {\n",
              "      background-color: #E2EBFA;\n",
              "      box-shadow: 0px 1px 2px rgba(60, 64, 67, 0.3), 0px 1px 3px 1px rgba(60, 64, 67, 0.15);\n",
              "      fill: #174EA6;\n",
              "    }\n",
              "\n",
              "    [theme=dark] .colab-df-convert {\n",
              "      background-color: #3B4455;\n",
              "      fill: #D2E3FC;\n",
              "    }\n",
              "\n",
              "    [theme=dark] .colab-df-convert:hover {\n",
              "      background-color: #434B5C;\n",
              "      box-shadow: 0px 1px 3px 1px rgba(0, 0, 0, 0.15);\n",
              "      filter: drop-shadow(0px 1px 2px rgba(0, 0, 0, 0.3));\n",
              "      fill: #FFFFFF;\n",
              "    }\n",
              "  </style>\n",
              "\n",
              "      <script>\n",
              "        const buttonEl =\n",
              "          document.querySelector('#df-f6f6b953-80b8-4185-bf7d-edb134a0b9f4 button.colab-df-convert');\n",
              "        buttonEl.style.display =\n",
              "          google.colab.kernel.accessAllowed ? 'block' : 'none';\n",
              "\n",
              "        async function convertToInteractive(key) {\n",
              "          const element = document.querySelector('#df-f6f6b953-80b8-4185-bf7d-edb134a0b9f4');\n",
              "          const dataTable =\n",
              "            await google.colab.kernel.invokeFunction('convertToInteractive',\n",
              "                                                     [key], {});\n",
              "          if (!dataTable) return;\n",
              "\n",
              "          const docLinkHtml = 'Like what you see? Visit the ' +\n",
              "            '<a target=\"_blank\" href=https://colab.research.google.com/notebooks/data_table.ipynb>data table notebook</a>'\n",
              "            + ' to learn more about interactive tables.';\n",
              "          element.innerHTML = '';\n",
              "          dataTable['output_type'] = 'display_data';\n",
              "          await google.colab.output.renderOutput(dataTable, element);\n",
              "          const docLink = document.createElement('div');\n",
              "          docLink.innerHTML = docLinkHtml;\n",
              "          element.appendChild(docLink);\n",
              "        }\n",
              "      </script>\n",
              "    </div>\n",
              "  </div>\n",
              "  "
            ]
          },
          "metadata": {},
          "execution_count": 109
        }
      ]
    },
    {
      "cell_type": "code",
      "source": [
        "categories = df3['v1'].unique().tolist()\n",
        "df3['v1'] =  df3['v1'].apply(lambda x : categories.index(x))\n",
        "print(df.head(), categories)"
      ],
      "metadata": {
        "colab": {
          "base_uri": "https://localhost:8080/"
        },
        "id": "9UA4yZlzkmKS",
        "outputId": "93f560a5-4666-4049-929c-bb3e64ba314a"
      },
      "execution_count": null,
      "outputs": [
        {
          "output_type": "stream",
          "name": "stdout",
          "text": [
            "                                              review  sentiment\n",
            "0  One of the other reviewers has mentioned that ...          0\n",
            "1  A wonderful little production. <br /><br />The...          0\n",
            "2  I thought this was a wonderful way to spend ti...          0\n",
            "3  Basically there's a family where a little boy ...          1\n",
            "4  Petter Mattei's \"Love in the Time of Money\" is...          0 ['ham', 'spam']\n"
          ]
        }
      ]
    },
    {
      "cell_type": "code",
      "source": [
        "nb = MultinomialBN(k=1, categories=categories)"
      ],
      "metadata": {
        "id": "6yF57aMgketv"
      },
      "execution_count": null,
      "outputs": []
    },
    {
      "cell_type": "code",
      "source": [
        "ratio = 0.8\n",
        "size = len(df3)\n",
        "arr = np.arange(size)\n",
        "np.random.shuffle(arr)\n",
        "df2 = df3.iloc[arr].reset_index()\n",
        "train_size = int(ratio * size)\n",
        "# print(train_size)\n",
        "\n",
        "X_train3, y_train3 = df3['v2'][:train_size], df3['v1'][:train_size]\n",
        "X_test3, y_test3 = df3['v2'][train_size:], df3['v1'][train_size:]\n",
        "# print(X_train3, y_train3)"
      ],
      "metadata": {
        "id": "R-g9BAwWnBDI"
      },
      "execution_count": null,
      "outputs": []
    },
    {
      "cell_type": "code",
      "source": [
        "nb.fit(X_train3, y_train3)"
      ],
      "metadata": {
        "id": "iLjLM6uJn0xO"
      },
      "execution_count": null,
      "outputs": []
    },
    {
      "cell_type": "code",
      "source": [
        "yPred = nb.predict(X_test3)\n",
        "nb.accuracy(yPred, y_test3)"
      ],
      "metadata": {
        "colab": {
          "base_uri": "https://localhost:8080/"
        },
        "id": "tjLyNynLpC_a",
        "outputId": "7fd33850-1da8-433f-b283-b9c42a25dbaf"
      },
      "execution_count": null,
      "outputs": [
        {
          "output_type": "execute_result",
          "data": {
            "text/plain": [
              "98.20627802690582"
            ]
          },
          "metadata": {},
          "execution_count": 114
        }
      ]
    },
    {
      "cell_type": "markdown",
      "metadata": {
        "id": "WICx0px3Qdmz"
      },
      "source": [
        "<h1>Check with a dataset with 3 category</h1>"
      ]
    },
    {
      "cell_type": "code",
      "execution_count": null,
      "metadata": {
        "colab": {
          "base_uri": "https://localhost:8080/",
          "height": 201
        },
        "id": "SYHVwht3Qb29",
        "outputId": "0b4669bf-6b90-4194-a828-940772a7fb89"
      },
      "outputs": [
        {
          "output_type": "execute_result",
          "data": {
            "text/plain": [
              "   Unnamed: 0                                              TITLE  \\\n",
              "0           0  Fed official says weak data caused by weather,...   \n",
              "1           1  Fed's Charles Plosser sees high bar for change...   \n",
              "2           2  US open: Stocks fall after Fed official hints ...   \n",
              "3           3  Fed risks falling 'behind the curve', Charles ...   \n",
              "4           4  Fed's Plosser: Nasty Weather Has Curbed Job Gr...   \n",
              "\n",
              "                                                 URL          PUBLISHER  \\\n",
              "0  http://www.latimes.com/business/money/la-fi-mo...  Los Angeles Times   \n",
              "1  http://www.livemint.com/Politics/H2EvwJSK2VE6O...           Livemint   \n",
              "2  http://www.ifamagazine.com/news/us-open-stocks...       IFA Magazine   \n",
              "3  http://www.ifamagazine.com/news/fed-risks-fall...       IFA Magazine   \n",
              "4  http://www.moneynews.com/Economy/federal-reser...          Moneynews   \n",
              "\n",
              "  CATEGORY                          STORY             HOSTNAME     TIMESTAMP  \n",
              "0        b  ddUyU0VZz0BRneMioxUPQVP6sIxvM      www.latimes.com  1.390000e+12  \n",
              "1        b  ddUyU0VZz0BRneMioxUPQVP6sIxvM     www.livemint.com  1.390000e+12  \n",
              "2        b  ddUyU0VZz0BRneMioxUPQVP6sIxvM  www.ifamagazine.com  1.390000e+12  \n",
              "3        b  ddUyU0VZz0BRneMioxUPQVP6sIxvM  www.ifamagazine.com  1.390000e+12  \n",
              "4        b  ddUyU0VZz0BRneMioxUPQVP6sIxvM    www.moneynews.com  1.390000e+12  "
            ],
            "text/html": [
              "\n",
              "  <div id=\"df-d592afad-b80c-4254-b78e-640f594b80e9\">\n",
              "    <div class=\"colab-df-container\">\n",
              "      <div>\n",
              "<style scoped>\n",
              "    .dataframe tbody tr th:only-of-type {\n",
              "        vertical-align: middle;\n",
              "    }\n",
              "\n",
              "    .dataframe tbody tr th {\n",
              "        vertical-align: top;\n",
              "    }\n",
              "\n",
              "    .dataframe thead th {\n",
              "        text-align: right;\n",
              "    }\n",
              "</style>\n",
              "<table border=\"1\" class=\"dataframe\">\n",
              "  <thead>\n",
              "    <tr style=\"text-align: right;\">\n",
              "      <th></th>\n",
              "      <th>Unnamed: 0</th>\n",
              "      <th>TITLE</th>\n",
              "      <th>URL</th>\n",
              "      <th>PUBLISHER</th>\n",
              "      <th>CATEGORY</th>\n",
              "      <th>STORY</th>\n",
              "      <th>HOSTNAME</th>\n",
              "      <th>TIMESTAMP</th>\n",
              "    </tr>\n",
              "  </thead>\n",
              "  <tbody>\n",
              "    <tr>\n",
              "      <th>0</th>\n",
              "      <td>0</td>\n",
              "      <td>Fed official says weak data caused by weather,...</td>\n",
              "      <td>http://www.latimes.com/business/money/la-fi-mo...</td>\n",
              "      <td>Los Angeles Times</td>\n",
              "      <td>b</td>\n",
              "      <td>ddUyU0VZz0BRneMioxUPQVP6sIxvM</td>\n",
              "      <td>www.latimes.com</td>\n",
              "      <td>1.390000e+12</td>\n",
              "    </tr>\n",
              "    <tr>\n",
              "      <th>1</th>\n",
              "      <td>1</td>\n",
              "      <td>Fed's Charles Plosser sees high bar for change...</td>\n",
              "      <td>http://www.livemint.com/Politics/H2EvwJSK2VE6O...</td>\n",
              "      <td>Livemint</td>\n",
              "      <td>b</td>\n",
              "      <td>ddUyU0VZz0BRneMioxUPQVP6sIxvM</td>\n",
              "      <td>www.livemint.com</td>\n",
              "      <td>1.390000e+12</td>\n",
              "    </tr>\n",
              "    <tr>\n",
              "      <th>2</th>\n",
              "      <td>2</td>\n",
              "      <td>US open: Stocks fall after Fed official hints ...</td>\n",
              "      <td>http://www.ifamagazine.com/news/us-open-stocks...</td>\n",
              "      <td>IFA Magazine</td>\n",
              "      <td>b</td>\n",
              "      <td>ddUyU0VZz0BRneMioxUPQVP6sIxvM</td>\n",
              "      <td>www.ifamagazine.com</td>\n",
              "      <td>1.390000e+12</td>\n",
              "    </tr>\n",
              "    <tr>\n",
              "      <th>3</th>\n",
              "      <td>3</td>\n",
              "      <td>Fed risks falling 'behind the curve', Charles ...</td>\n",
              "      <td>http://www.ifamagazine.com/news/fed-risks-fall...</td>\n",
              "      <td>IFA Magazine</td>\n",
              "      <td>b</td>\n",
              "      <td>ddUyU0VZz0BRneMioxUPQVP6sIxvM</td>\n",
              "      <td>www.ifamagazine.com</td>\n",
              "      <td>1.390000e+12</td>\n",
              "    </tr>\n",
              "    <tr>\n",
              "      <th>4</th>\n",
              "      <td>4</td>\n",
              "      <td>Fed's Plosser: Nasty Weather Has Curbed Job Gr...</td>\n",
              "      <td>http://www.moneynews.com/Economy/federal-reser...</td>\n",
              "      <td>Moneynews</td>\n",
              "      <td>b</td>\n",
              "      <td>ddUyU0VZz0BRneMioxUPQVP6sIxvM</td>\n",
              "      <td>www.moneynews.com</td>\n",
              "      <td>1.390000e+12</td>\n",
              "    </tr>\n",
              "  </tbody>\n",
              "</table>\n",
              "</div>\n",
              "      <button class=\"colab-df-convert\" onclick=\"convertToInteractive('df-d592afad-b80c-4254-b78e-640f594b80e9')\"\n",
              "              title=\"Convert this dataframe to an interactive table.\"\n",
              "              style=\"display:none;\">\n",
              "        \n",
              "  <svg xmlns=\"http://www.w3.org/2000/svg\" height=\"24px\"viewBox=\"0 0 24 24\"\n",
              "       width=\"24px\">\n",
              "    <path d=\"M0 0h24v24H0V0z\" fill=\"none\"/>\n",
              "    <path d=\"M18.56 5.44l.94 2.06.94-2.06 2.06-.94-2.06-.94-.94-2.06-.94 2.06-2.06.94zm-11 1L8.5 8.5l.94-2.06 2.06-.94-2.06-.94L8.5 2.5l-.94 2.06-2.06.94zm10 10l.94 2.06.94-2.06 2.06-.94-2.06-.94-.94-2.06-.94 2.06-2.06.94z\"/><path d=\"M17.41 7.96l-1.37-1.37c-.4-.4-.92-.59-1.43-.59-.52 0-1.04.2-1.43.59L10.3 9.45l-7.72 7.72c-.78.78-.78 2.05 0 2.83L4 21.41c.39.39.9.59 1.41.59.51 0 1.02-.2 1.41-.59l7.78-7.78 2.81-2.81c.8-.78.8-2.07 0-2.86zM5.41 20L4 18.59l7.72-7.72 1.47 1.35L5.41 20z\"/>\n",
              "  </svg>\n",
              "      </button>\n",
              "      \n",
              "  <style>\n",
              "    .colab-df-container {\n",
              "      display:flex;\n",
              "      flex-wrap:wrap;\n",
              "      gap: 12px;\n",
              "    }\n",
              "\n",
              "    .colab-df-convert {\n",
              "      background-color: #E8F0FE;\n",
              "      border: none;\n",
              "      border-radius: 50%;\n",
              "      cursor: pointer;\n",
              "      display: none;\n",
              "      fill: #1967D2;\n",
              "      height: 32px;\n",
              "      padding: 0 0 0 0;\n",
              "      width: 32px;\n",
              "    }\n",
              "\n",
              "    .colab-df-convert:hover {\n",
              "      background-color: #E2EBFA;\n",
              "      box-shadow: 0px 1px 2px rgba(60, 64, 67, 0.3), 0px 1px 3px 1px rgba(60, 64, 67, 0.15);\n",
              "      fill: #174EA6;\n",
              "    }\n",
              "\n",
              "    [theme=dark] .colab-df-convert {\n",
              "      background-color: #3B4455;\n",
              "      fill: #D2E3FC;\n",
              "    }\n",
              "\n",
              "    [theme=dark] .colab-df-convert:hover {\n",
              "      background-color: #434B5C;\n",
              "      box-shadow: 0px 1px 3px 1px rgba(0, 0, 0, 0.15);\n",
              "      filter: drop-shadow(0px 1px 2px rgba(0, 0, 0, 0.3));\n",
              "      fill: #FFFFFF;\n",
              "    }\n",
              "  </style>\n",
              "\n",
              "      <script>\n",
              "        const buttonEl =\n",
              "          document.querySelector('#df-d592afad-b80c-4254-b78e-640f594b80e9 button.colab-df-convert');\n",
              "        buttonEl.style.display =\n",
              "          google.colab.kernel.accessAllowed ? 'block' : 'none';\n",
              "\n",
              "        async function convertToInteractive(key) {\n",
              "          const element = document.querySelector('#df-d592afad-b80c-4254-b78e-640f594b80e9');\n",
              "          const dataTable =\n",
              "            await google.colab.kernel.invokeFunction('convertToInteractive',\n",
              "                                                     [key], {});\n",
              "          if (!dataTable) return;\n",
              "\n",
              "          const docLinkHtml = 'Like what you see? Visit the ' +\n",
              "            '<a target=\"_blank\" href=https://colab.research.google.com/notebooks/data_table.ipynb>data table notebook</a>'\n",
              "            + ' to learn more about interactive tables.';\n",
              "          element.innerHTML = '';\n",
              "          dataTable['output_type'] = 'display_data';\n",
              "          await google.colab.output.renderOutput(dataTable, element);\n",
              "          const docLink = document.createElement('div');\n",
              "          docLink.innerHTML = docLinkHtml;\n",
              "          element.appendChild(docLink);\n",
              "        }\n",
              "      </script>\n",
              "    </div>\n",
              "  </div>\n",
              "  "
            ]
          },
          "metadata": {},
          "execution_count": 11
        }
      ],
      "source": [
        "df2 = pd.read_csv('mnb.csv')\n",
        "df2.head()"
      ]
    },
    {
      "cell_type": "code",
      "execution_count": null,
      "metadata": {
        "id": "S20gS2BJLzzd"
      },
      "outputs": [],
      "source": [
        "categories = df2['CATEGORY'].unique().tolist()\n",
        "df2['CATEGORY'] =  df2['CATEGORY'].apply(lambda x : categories.index(x))\n"
      ]
    },
    {
      "cell_type": "code",
      "execution_count": null,
      "metadata": {
        "colab": {
          "base_uri": "https://localhost:8080/"
        },
        "id": "OqgfGnwCOJ9v",
        "outputId": "da6aa5cc-3428-4bdf-850f-7014b7e9bd74"
      },
      "outputs": [
        {
          "output_type": "execute_result",
          "data": {
            "text/plain": [
              "['b', 'e', 't']"
            ]
          },
          "metadata": {},
          "execution_count": 13
        }
      ],
      "source": [
        "categories"
      ]
    },
    {
      "cell_type": "code",
      "execution_count": null,
      "metadata": {
        "id": "ulFy06zquMkE"
      },
      "outputs": [],
      "source": [
        "new_transformer = MultinomialBN(k=1, categories=categories)"
      ]
    },
    {
      "cell_type": "code",
      "execution_count": null,
      "metadata": {
        "colab": {
          "base_uri": "https://localhost:8080/"
        },
        "id": "WimX9UK_6Tbi",
        "outputId": "424d2901-2889-4855-d720-8320227f3147"
      },
      "outputs": [
        {
          "output_type": "stream",
          "name": "stdout",
          "text": [
            "52\n"
          ]
        }
      ],
      "source": [
        "ratio = 0.8\n",
        "size = len(df2)\n",
        "arr = np.arange(size)\n",
        "np.random.shuffle(arr)\n",
        "df2 = df2.iloc[arr].reset_index()\n",
        "train_size = int(ratio * size)\n",
        "print(train_size)\n",
        "\n",
        "X_train2, y_train2 = df2['TITLE'][:train_size], df2['CATEGORY'][:train_size]\n",
        "X_test2, y_test2 = df2['TITLE'][train_size:], df2['CATEGORY'][train_size:]"
      ]
    },
    {
      "cell_type": "code",
      "source": [
        "# X_test2.head()"
      ],
      "metadata": {
        "id": "m9vP8gYoeFvL"
      },
      "execution_count": null,
      "outputs": []
    },
    {
      "cell_type": "code",
      "execution_count": null,
      "metadata": {
        "id": "fzOJVUTuP63-"
      },
      "outputs": [],
      "source": [
        "new_transformer.fit(X_train2, y_train2)"
      ]
    },
    {
      "cell_type": "code",
      "source": [
        "fast = pd.Series(['risk check', 'Fed'])  \n",
        "fast"
      ],
      "metadata": {
        "colab": {
          "base_uri": "https://localhost:8080/"
        },
        "id": "rA69-W3jdrIO",
        "outputId": "3819b175-6352-41d7-a681-1d660d1adc49"
      },
      "execution_count": null,
      "outputs": [
        {
          "output_type": "execute_result",
          "data": {
            "text/plain": [
              "0    risk check\n",
              "1           Fed\n",
              "dtype: object"
            ]
          },
          "metadata": {},
          "execution_count": 22
        }
      ]
    },
    {
      "cell_type": "code",
      "source": [
        "y_fast = new_transformer.predict(fast)\n",
        "for pred in y_fast:\n",
        "  print(categories[pred])"
      ],
      "metadata": {
        "colab": {
          "base_uri": "https://localhost:8080/"
        },
        "id": "20kvzFJydRkc",
        "outputId": "934bd8e9-cd14-4b84-9274-8502573f47d7"
      },
      "execution_count": null,
      "outputs": [
        {
          "output_type": "stream",
          "name": "stdout",
          "text": [
            "e\n",
            "b\n"
          ]
        }
      ]
    },
    {
      "cell_type": "code",
      "execution_count": null,
      "metadata": {
        "id": "V_t0IUPcQLbV"
      },
      "outputs": [],
      "source": [
        "yPred = new_transformer.predict(X_test2)"
      ]
    },
    {
      "cell_type": "code",
      "execution_count": null,
      "metadata": {
        "colab": {
          "base_uri": "https://localhost:8080/"
        },
        "id": "h8GVoOHMQ6Mv",
        "outputId": "d7cc3154-6e6b-438a-b54c-40e6463b45e2"
      },
      "outputs": [
        {
          "output_type": "execute_result",
          "data": {
            "text/plain": [
              "100.0"
            ]
          },
          "metadata": {},
          "execution_count": 122
        }
      ],
      "source": [
        "new_transformer.accuracy(yPred, y_test2)"
      ]
    },
    {
      "cell_type": "code",
      "source": [
        "cm = confusion_matrix(y_test2, yPred)\n",
        "disp = ConfusionMatrixDisplay(confusion_matrix=cm, display_labels=categories)\n",
        "disp.plot()"
      ],
      "metadata": {
        "colab": {
          "base_uri": "https://localhost:8080/",
          "height": 300
        },
        "id": "J1j9XaXQznYi",
        "outputId": "26af0636-6e10-4326-a999-eb78ad057c72"
      },
      "execution_count": null,
      "outputs": [
        {
          "output_type": "execute_result",
          "data": {
            "text/plain": [
              "<sklearn.metrics._plot.confusion_matrix.ConfusionMatrixDisplay at 0x7f01779df250>"
            ]
          },
          "metadata": {},
          "execution_count": 123
        },
        {
          "output_type": "display_data",
          "data": {
            "text/plain": [
              "<Figure size 432x288 with 2 Axes>"
            ],
            "image/png": "[encoded data removed]"
          },
          "metadata": {
            "needs_background": "light"
          }
        }
      ]
    },
    {
      "cell_type": "markdown",
      "metadata": {
        "id": "4LxLyOi5-wpw"
      },
      "source": [
        "<h1>Compare result with Scikit learn result</h1>"
      ]
    },
    {
      "cell_type": "code",
      "execution_count": null,
      "metadata": {
        "id": "adb6jjiZ_D7n"
      },
      "outputs": [],
      "source": [
        "stemmer = SnowballStemmer(language = 'english')\n",
        "lem = WordNetLemmatizer()\n",
        "stop = set(stopwords.words('english'))\n",
        "\n",
        "def tokenize(document):\n",
        "  document = document.lower()\n",
        "  data = [char for char in document if char not in string.punctuation]\n",
        "  data = ''.join(data)\n",
        "  data = [word for word in data.split() if word.lower() not in stop]\n",
        "  data = [stemmer.stem(x,) for x in data]\n",
        "  data = [lem.lemmatize(x,) for x in data]\n",
        "  return data"
      ]
    },
    {
      "cell_type": "code",
      "execution_count": null,
      "metadata": {
        "id": "ZWfpM46T7erw"
      },
      "outputs": [],
      "source": [
        "from sklearn.feature_extraction.text import CountVectorizer\n",
        "from sklearn.feature_extraction.text import TfidfTransformer\n",
        "from sklearn.naive_bayes import MultinomialNB\n",
        "from sklearn.metrics import accuracy_score\n",
        "from sklearn.preprocessing import LabelEncoder\n",
        "from sklearn.model_selection import train_test_split\n"
      ]
    },
    {
      "cell_type": "code",
      "execution_count": null,
      "metadata": {
        "colab": {
          "base_uri": "https://localhost:8080/"
        },
        "id": "MuhVnKA5KwC8",
        "outputId": "0557ef70-5e20-452d-eed3-53523cb23aa4"
      },
      "outputs": [
        {
          "output_type": "execute_result",
          "data": {
            "text/plain": [
              "1.0"
            ]
          },
          "metadata": {},
          "execution_count": 126
        }
      ],
      "source": [
        "\n",
        "# pull the data into vectors\n",
        "vectorizer = CountVectorizer()\n",
        "x = vectorizer.fit_transform(df2['TITLE'])\n",
        "\n",
        "encoder = LabelEncoder()\n",
        "y = encoder.fit_transform(df2['CATEGORY'])\n",
        "\n",
        "# split into train and test sets\n",
        "x_train, x_test, y_train, y_test = train_test_split(x, y, test_size=0.2)\n",
        "\n",
        "nb = MultinomialNB()\n",
        "nb.fit(x_train, y_train)\n",
        "y_predicted = nb.predict(x_test)\n",
        "\n",
        "accuracy_score(y_test, y_predicted) "
      ]
    },
    {
      "cell_type": "code",
      "execution_count": null,
      "metadata": {
        "colab": {
          "base_uri": "https://localhost:8080/"
        },
        "id": "A6EUQPb1BSg_",
        "outputId": "ae883c40-c99f-44a1-8745-d073bba60d2e"
      },
      "outputs": [
        {
          "output_type": "execute_result",
          "data": {
            "text/plain": [
              "0.8467"
            ]
          },
          "metadata": {},
          "execution_count": 127
        }
      ],
      "source": [
        "# pull the data into vectors\n",
        "vectorizer = CountVectorizer()\n",
        "x = vectorizer.fit_transform(df['review'])\n",
        "\n",
        "encoder = LabelEncoder()\n",
        "y = encoder.fit_transform(df['sentiment'])\n",
        "\n",
        "# split into train and test sets\n",
        "x_train, x_test, y_train, y_test = train_test_split(x, y, test_size=0.2)\n",
        "\n",
        "nb = MultinomialNB()\n",
        "nb.fit(x_train, y_train)\n",
        "y_predicted = nb.predict(x_test)\n",
        "\n",
        "accuracy_score(y_test, y_predicted) "
      ]
    },
    {
      "cell_type": "code",
      "source": [
        "# pull the data into vectors\n",
        "vectorizer = CountVectorizer()\n",
        "x = vectorizer.fit_transform(df3['v2'])\n",
        "\n",
        "encoder = LabelEncoder()\n",
        "y = encoder.fit_transform(df3['v1'])\n",
        "\n",
        "# split into train and test sets\n",
        "x_train, x_test, y_train, y_test = train_test_split(x, y, test_size=0.2)\n",
        "\n",
        "nb = MultinomialNB()\n",
        "nb.fit(x_train, y_train)\n",
        "y_predicted = nb.predict(x_test)\n",
        "\n",
        "accuracy_score(y_test, y_predicted) "
      ],
      "metadata": {
        "colab": {
          "base_uri": "https://localhost:8080/"
        },
        "id": "-2U2FzqIpbDf",
        "outputId": "0607dbe8-cdfe-4c01-9506-419fdd33c11f"
      },
      "execution_count": null,
      "outputs": [
        {
          "output_type": "execute_result",
          "data": {
            "text/plain": [
              "0.9838565022421525"
            ]
          },
          "metadata": {},
          "execution_count": 128
        }
      ]
    },
    {
      "cell_type": "markdown",
      "metadata": {
        "id": "7aZeZPI6MnXO"
      },
      "source": [
        "\n",
        "<h1>Conclusion</h1>\n",
        "\n",
        "We can see that our code perform as well as their code, but it is a bit slow."
      ]
    },
    {
      "cell_type": "code",
      "source": [
        ""
      ],
      "metadata": {
        "id": "qZ-ak8cve6t2"
      },
      "execution_count": null,
      "outputs": []
    }
  ],
  "metadata": {
    "colab": {
      "collapsed_sections": [],
      "name": "Multinomial Naives Bayes2.ipynb",
      "provenance": []
    },
    "kernelspec": {
      "display_name": "Python 3",
      "name": "python3"
    },
    "language_info": {
      "name": "python"
    }
  },
  "nbformat": 4,
  "nbformat_minor": 0
}